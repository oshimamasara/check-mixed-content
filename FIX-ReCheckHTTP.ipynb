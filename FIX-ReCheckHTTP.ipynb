{
 "cells": [
  {
   "cell_type": "code",
   "execution_count": 1,
   "metadata": {},
   "outputs": [
    {
     "name": "stdout",
     "output_type": "stream",
     "text": [
      "   imglink  \\\n",
      "0  imglink   \n",
      "1  imglink   \n",
      "2  imglink   \n",
      "3  imglink   \n",
      "4  imglink   \n",
      "\n",
      "  https://codecamp6414.lesson6.codecamp.jp//blog_codecamp/201811/AnchorElement/ezgif.com-optimize%20(1).gif  \\\n",
      "0  https://codecamp6414.lesson6.codecamp.jp//blog...                                                          \n",
      "1  https://codecamp6414.lesson6.codecamp.jp//blog...                                                          \n",
      "2  https://codecamp6414.lesson6.codecamp.jp//blog...                                                          \n",
      "3  https://codecamp6414.lesson6.codecamp.jp//blog...                                                          \n",
      "4  https://codecamp6414.lesson6.codecamp.jp//blog...                                                          \n",
      "\n",
      "  https://blog.codecamp.jp/programming-html-anchor-tag  \n",
      "0  https://blog.codecamp.jp/programming-iphone-ap...    \n",
      "1  https://blog.codecamp.jp/programming-first-app...    \n",
      "2  https://blog.codecamp.jp/programming-html-radi...    \n",
      "3  https://blog.codecamp.jp/programming-html-radi...    \n",
      "4  https://blog.codecamp.jp/iPhone-app-develope-o...    \n"
     ]
    }
   ],
   "source": [
    "import pandas as pd\n",
    "from pandas import read_csv\n",
    "df = read_csv(\"Error-URL.csv\")\n",
    "print(df.head())"
   ]
  },
  {
   "cell_type": "code",
   "execution_count": 2,
   "metadata": {},
   "outputs": [],
   "source": [
    "col_Names = [\"type\", \"LINK\", \"POST_URL\"]\n",
    "csv_file = pd.read_csv(\"Error-URL.csv\", names = col_Names)"
   ]
  },
  {
   "cell_type": "code",
   "execution_count": 3,
   "metadata": {},
   "outputs": [
    {
     "name": "stdout",
     "output_type": "stream",
     "text": [
      "                                                LINK\n",
      "0  https://codecamp6414.lesson6.codecamp.jp//blog...\n",
      "1  https://codecamp6414.lesson6.codecamp.jp//blog...\n",
      "2  https://codecamp6414.lesson6.codecamp.jp//blog...\n",
      "3  https://codecamp6414.lesson6.codecamp.jp//blog...\n",
      "4  https://codecamp6414.lesson6.codecamp.jp//blog...\n"
     ]
    }
   ],
   "source": [
    "df_LINK = csv_file[[\"LINK\"]]\n",
    "print(df_LINK[:5])"
   ]
  },
  {
   "cell_type": "code",
   "execution_count": 4,
   "metadata": {},
   "outputs": [
    {
     "name": "stdout",
     "output_type": "stream",
     "text": [
      "                                            POST_URL\n",
      "0  https://blog.codecamp.jp/programming-html-anch...\n",
      "1  https://blog.codecamp.jp/programming-iphone-ap...\n",
      "2  https://blog.codecamp.jp/programming-first-app...\n",
      "3  https://blog.codecamp.jp/programming-html-radi...\n",
      "4  https://blog.codecamp.jp/programming-html-radi...\n"
     ]
    }
   ],
   "source": [
    "df_POST_URL = csv_file[[\"POST_URL\"]]\n",
    "print(df_POST_URL[:5])"
   ]
  },
  {
   "cell_type": "code",
   "execution_count": 5,
   "metadata": {},
   "outputs": [],
   "source": [
    "LINK = df_LINK[\"LINK\"].astype(str)\n",
    "POST_URL = df_POST_URL[\"POST_URL\"].astype(str)"
   ]
  },
  {
   "cell_type": "code",
   "execution_count": 6,
   "metadata": {},
   "outputs": [
    {
     "name": "stdout",
     "output_type": "stream",
     "text": [
      "https://codecamp6414.lesson6.codecamp.jp//blog_codecamp/201811/AnchorElement/ezgif.com-optimize%20(1).gif\n",
      "<class 'str'>\n"
     ]
    }
   ],
   "source": [
    "s = LINK[0]\n",
    "print(s)\n",
    "print(type(s))"
   ]
  },
  {
   "cell_type": "code",
   "execution_count": 7,
   "metadata": {},
   "outputs": [
    {
     "name": "stdout",
     "output_type": "stream",
     "text": [
      "チェック URL: https://codecamp6414.lesson6.codecamp.jp//blog_codecamp/201811/AnchorElement/ezgif.com-optimize%20(1).gif  アクセスできなかったよ★\n",
      "チェック URL: https://codecamp6414.lesson6.codecamp.jp//blog_codecamp/201901/img/todoCoredata-TapImage.gif  アクセスできなかったよ★\n",
      "チェック URL: https://codecamp6414.lesson6.codecamp.jp//blog_codecamp/201901/img/ezgif.com-gif-maker.gif  アクセスできなかったよ★\n",
      "チェック URL: https://codecamp6414.lesson6.codecamp.jp//blog_codecamp/201811/radioButton/ezgif.com-video-to-gif.gif  アクセスできなかったよ★\n",
      "チェック URL: https://codecamp6414.lesson6.codecamp.jp//blog_codecamp/201811/radioButton/ezgif.com-video-to-gif%20(1).gif  アクセスできなかったよ★\n",
      "チェック URL: https://codecamp6414.lesson6.codecamp.jp//blog_codecamp/201901/img/sliderokimg.gif  アクセスできなかったよ★\n",
      "チェック URL: https://codecamp6414.lesson6.codecamp.jp//blog_codecamp/201812/JavaScriptStart/img/Webp.net-gifmaker.gif  アクセスできなかったよ★\n",
      "チェック URL: https://codecamp6414.lesson6.codecamp.jp//blog_codecamp/201810/tab/output_hrl337.gif  アクセスできなかったよ★\n",
      "チェック URL: https://codecamp6414.lesson6.codecamp.jp//blog_codecamp/201810/tab/ezgif.com-optimize.gif  アクセスできなかったよ★\n",
      "チェック URL: https://codecamp6414.lesson6.codecamp.jp//blog_codecamp/201810/tab/ezgif.com-optimize(2).gif  アクセスできなかったよ★\n",
      "チェック URL: https://codecamp6414.lesson6.codecamp.jp//blog_codecamp/201810/tab/ezgif.com-optimize(3).gif  アクセスできなかったよ★\n",
      "チェック URL: https://codecamp6414.lesson6.codecamp.jp//blog_codecamp/201810/tab/ezgif.com-optimize(4).gif  アクセスできなかったよ★\n",
      "チェック URL: https://codecamp6414.lesson6.codecamp.jp//blog_codecamp/201810/tab/ezgif.com-optimize(5).gif  アクセスできなかったよ★\n",
      "チェック URL: https://codecamp6414.lesson6.codecamp.jp//blog_codecamp/201810/tab/ezgif.com-resize.gif  アクセスできなかったよ★\n",
      "チェック URL: https://codecamp6414.lesson6.codecamp.jp//blog_codecamp/201810/tab/ezgif.com-optimize(6).gif  アクセスできなかったよ★\n",
      "チェック URL: https://codecamp6414.lesson6.codecamp.jp//blog_codecamp/201810/tab/ezgif.com-resize(1).gif  アクセスできなかったよ★\n",
      "チェック URL: https://codecamp6414.lesson6.codecamp.jp//blog_codecamp/201810/HTMLButton/img/Attention-Grabbing-CTA-Button-Animation.gif  アクセスできなかったよ★\n",
      "チェック URL: https://codecamp6414.lesson6.codecamp.jp//blog_codecamp/201810/HTMLButton/img/button-to-delivery-truck-animation.gif  アクセスできなかったよ★\n",
      "チェック URL: https://codecamp6414.lesson6.codecamp.jp//blog_codecamp/201810/HTMLButton/img/Split-Button-to-Social-Icons-on-Hover.gif  アクセスできなかったよ★\n",
      "チェック URL: https://codecamp6414.lesson6.codecamp.jp//blog_codecamp/201810/HTMLButton/img/Button-into-Modal-Form-Animation-1.gif  アクセスできなかったよ★\n",
      "URL 一緒: https://s3-ap-northeast-1.amazonaws.com/mash-jp/production/uploads/11201/c3209d781693b7c682bbc43dada616496bae40b1.11231.desktop.jpg\n",
      "URL 一緒: https://s3-ap-northeast-1.amazonaws.com/mash-jp/production/uploads/11201/c3209d781693b7c682bbc43dada616496bae40b1.11231.desktop.jpg\n",
      "URL 一緒: https://s3-ap-northeast-1.amazonaws.com/mash-jp/production/uploads/11201/c3209d781693b7c682bbc43dada616496bae40b1.11231.desktop.jpg\n",
      "URL 一緒: https://s3-ap-northeast-1.amazonaws.com/mash-jp/production/uploads/11201/132d9540e14f4ed8a709337d6d9c77d41337c93a.11237.desktop.png\n",
      "URL 一緒: https://s3-ap-northeast-1.amazonaws.com/mash-jp/production/uploads/11201/9d21542f8fe9e0383b016a20978ada26b6c88a7b.11233.desktop.png\n",
      "URL 一緒: https://s3-ap-northeast-1.amazonaws.com/mash-jp/production/uploads/11201/a1cea1574d20835eab05381ed3af26f39e1547c5.11235.desktop.png\n",
      "URL 一緒: https://s3-ap-northeast-1.amazonaws.com/mash-jp/production/uploads/11201/c3209d781693b7c682bbc43dada616496bae40b1.11231.desktop.jpg\n",
      "URL 一緒: https://s3-ap-northeast-1.amazonaws.com/mash-jp/production/uploads/11201/c3209d781693b7c682bbc43dada616496bae40b1.11231.desktop.jpg\n",
      "URL 一緒: https://s3-ap-northeast-1.amazonaws.com/mash-jp/production/uploads/11201/c3209d781693b7c682bbc43dada616496bae40b1.11231.desktop.jpg\n",
      "URL 一緒: https://s3-ap-northeast-1.amazonaws.com/mash-jp/production/uploads/11201/9d21542f8fe9e0383b016a20978ada26b6c88a7b.11233.desktop.png\n",
      "URL 一緒: https://s3-ap-northeast-1.amazonaws.com/mash-jp/production/uploads/11201/c3209d781693b7c682bbc43dada616496bae40b1.11231.desktop.jpg\n",
      "URL 一緒: https://s3-ap-northeast-1.amazonaws.com/mash-jp/production/uploads/11201/c3209d781693b7c682bbc43dada616496bae40b1.11231.desktop.jpg\n",
      "URL 一緒: https://s3-ap-northeast-1.amazonaws.com/mash-jp/production/uploads/11201/132d9540e14f4ed8a709337d6d9c77d41337c93a.11237.desktop.png\n",
      "URL 一緒: https://s3-ap-northeast-1.amazonaws.com/mash-jp/production/uploads/11201/c3209d781693b7c682bbc43dada616496bae40b1.11231.desktop.jpg\n",
      "URL 一緒: https://s3-ap-northeast-1.amazonaws.com/mash-jp/production/uploads/11201/132d9540e14f4ed8a709337d6d9c77d41337c93a.11237.desktop.png\n",
      "URL 一緒: https://s3-ap-northeast-1.amazonaws.com/mash-jp/production/uploads/11201/c3209d781693b7c682bbc43dada616496bae40b1.11231.desktop.jpg\n",
      "URL 一緒: https://s3-ap-northeast-1.amazonaws.com/mash-jp/production/uploads/11201/a1cea1574d20835eab05381ed3af26f39e1547c5.11235.desktop.png\n",
      "URL 一緒: https://s3-ap-northeast-1.amazonaws.com/mash-jp/production/uploads/11201/c3209d781693b7c682bbc43dada616496bae40b1.11231.desktop.jpg\n",
      "URL 一緒: https://s3-ap-northeast-1.amazonaws.com/mash-jp/production/uploads/11201/9d21542f8fe9e0383b016a20978ada26b6c88a7b.11233.desktop.png\n",
      "URL 一緒: https://s3-ap-northeast-1.amazonaws.com/mash-jp/production/uploads/11201/c3209d781693b7c682bbc43dada616496bae40b1.11231.desktop.jpg\n",
      "URL 一緒: https://s3-ap-northeast-1.amazonaws.com/mash-jp/production/uploads/11201/132d9540e14f4ed8a709337d6d9c77d41337c93a.11237.desktop.png\n",
      "URL 一緒: https://s3-ap-northeast-1.amazonaws.com/mash-jp/production/uploads/11201/c3209d781693b7c682bbc43dada616496bae40b1.11231.desktop.jpg\n",
      "URL 一緒: https://s3-ap-northeast-1.amazonaws.com/mash-jp/production/uploads/11201/c3209d781693b7c682bbc43dada616496bae40b1.11231.desktop.jpg\n",
      "URL 一緒: https://s3-ap-northeast-1.amazonaws.com/mash-jp/production/uploads/11201/9d21542f8fe9e0383b016a20978ada26b6c88a7b.11233.desktop.png\n",
      "URL 一緒: https://s3-ap-northeast-1.amazonaws.com/mash-jp/production/uploads/11201/9d21542f8fe9e0383b016a20978ada26b6c88a7b.11233.desktop.png\n",
      "URL 一緒: https://s3-ap-northeast-1.amazonaws.com/mash-jp/production/uploads/11201/c3209d781693b7c682bbc43dada616496bae40b1.11231.desktop.jpg\n",
      "URL 一緒: https://s3-ap-northeast-1.amazonaws.com/mash-jp/production/uploads/11201/c3209d781693b7c682bbc43dada616496bae40b1.11231.desktop.jpg\n",
      "URL 一緒: https://s3-ap-northeast-1.amazonaws.com/mash-jp/production/uploads/11201/a1cea1574d20835eab05381ed3af26f39e1547c5.11235.desktop.png\n",
      "URL 一緒: https://s3-ap-northeast-1.amazonaws.com/mash-jp/production/uploads/11201/9d21542f8fe9e0383b016a20978ada26b6c88a7b.11233.desktop.png\n",
      "URL 一緒: https://s3-ap-northeast-1.amazonaws.com/mash-jp/production/uploads/11201/c3209d781693b7c682bbc43dada616496bae40b1.11231.desktop.jpg\n",
      "URL 一緒: https://s3-ap-northeast-1.amazonaws.com/mash-jp/production/uploads/11201/c3209d781693b7c682bbc43dada616496bae40b1.11231.desktop.jpg\n",
      "URL 一緒: https://s3-ap-northeast-1.amazonaws.com/mash-jp/production/uploads/11201/132d9540e14f4ed8a709337d6d9c77d41337c93a.11237.desktop.png\n",
      "URL 一緒: https://s3-ap-northeast-1.amazonaws.com/mash-jp/production/uploads/11201/c3209d781693b7c682bbc43dada616496bae40b1.11231.desktop.jpg\n",
      "URL 一緒: https://s3-ap-northeast-1.amazonaws.com/mash-jp/production/uploads/9601/08a2079339d57921a3b1c66726fbd7fac3c50360.9613.desktop.jpg\n",
      "URL 一緒: https://s3-ap-northeast-1.amazonaws.com/mash-jp/production/uploads/9601/d6fc7991f7679ab1b36074c59860069778ab593a.9614.desktop.jpg\n",
      "URL 一緒: https://s3-ap-northeast-1.amazonaws.com/mash-jp/production/uploads/9601/d88cdcff67e8a9c6579e5f6f7a4defc108fcfb94.9615.desktop.jpg\n",
      "URL 一緒: https://s3-ap-northeast-1.amazonaws.com/mash-jp/production/uploads/8701/649aac2f24133d4ed9ffe1cc90cd54a0cf70e1cf.8703.desktop.png\n",
      "URL 一緒: https://s3-ap-northeast-1.amazonaws.com/mash-jp/production/uploads/8701/649aac2f24133d4ed9ffe1cc90cd54a0cf70e1cf.8703.desktop.png\n",
      "URL 一緒: https://s3-ap-northeast-1.amazonaws.com/mash-jp/production/uploads/8701/649aac2f24133d4ed9ffe1cc90cd54a0cf70e1cf.8703.desktop.png\n",
      "URL 一緒: https://s3-ap-northeast-1.amazonaws.com/mash-jp/production/uploads/8701/649aac2f24133d4ed9ffe1cc90cd54a0cf70e1cf.8703.desktop.png\n",
      "URL 一緒: https://s3-ap-northeast-1.amazonaws.com/mash-jp/production/uploads/8701/649aac2f24133d4ed9ffe1cc90cd54a0cf70e1cf.8703.desktop.png\n",
      "URL 一緒: https://s3-ap-northeast-1.amazonaws.com/mash-jp/production/uploads/8701/649aac2f24133d4ed9ffe1cc90cd54a0cf70e1cf.8703.desktop.png\n"
     ]
    },
    {
     "name": "stdout",
     "output_type": "stream",
     "text": [
      "URL 一緒: https://s3-ap-northeast-1.amazonaws.com/mash-jp/production/uploads/8601/fd856e98264d78265062befe824a42fa9663c5f7.8670.desktop.png\n",
      "URL 一緒: https://s3-ap-northeast-1.amazonaws.com/mash-jp/production/uploads/6901/db0574b4922786ecc0804665fa5e370c35737967.6921.desktop.jpg\n",
      "URL 一緒: https://s3-ap-northeast-1.amazonaws.com/mash-jp/production/uploads/6901/db0574b4922786ecc0804665fa5e370c35737967.6921.desktop.jpg\n",
      "URL 一緒: https://s3-ap-northeast-1.amazonaws.com/mash-jp/production/uploads/6901/db0574b4922786ecc0804665fa5e370c35737967.6921.desktop.jpg\n",
      "URL 一緒: https://s3-ap-northeast-1.amazonaws.com/mash-jp/production/uploads/6901/db0574b4922786ecc0804665fa5e370c35737967.6921.desktop.jpg\n",
      "URL 一緒: https://s3-ap-northeast-1.amazonaws.com/mash-jp/production/uploads/6901/db0574b4922786ecc0804665fa5e370c35737967.6921.desktop.jpg\n",
      "URL 一緒: https://s3-ap-northeast-1.amazonaws.com/mash-jp/production/uploads/6901/db0574b4922786ecc0804665fa5e370c35737967.6921.desktop.jpg\n",
      "URL 一緒: https://s3-ap-northeast-1.amazonaws.com/mash-jp/production/uploads/6901/db0574b4922786ecc0804665fa5e370c35737967.6921.desktop.jpg\n",
      "URL 一緒: https://s3-ap-northeast-1.amazonaws.com/mash-jp/production/uploads/6901/db0574b4922786ecc0804665fa5e370c35737967.6921.desktop.jpg\n",
      "チェック URL: https://ecx.images-amazon.com/images/I/51AM4y1m41L._SL160_.jpg  アクセスできなかったよ★\n",
      "チェック URL: https://ecx.images-amazon.com/images/I/51DrZO3BkAL._SL160_.jpg  アクセスできなかったよ★\n",
      "チェック URL: https://ecx.images-amazon.com/images/I/510SzMLn5WL._SL160_.jpg  アクセスできなかったよ★\n",
      "チェック URL: https://ecx.images-amazon.com/images/I/51AvRbVdAsL._SL160_.jpg  アクセスできなかったよ★\n",
      "チェック URL: https://ecx.images-amazon.com/images/I/512MgvG5kVL._SL160_.jpg  アクセスできなかったよ★\n",
      "チェック URL: https://ecx.images-amazon.com/images/I/51yrjFsf-2L._SL160_.jpg  アクセスできなかったよ★\n",
      "URL 一緒: https://www.pasonacareer.jp/info/images/01_it_engeneer.png\n",
      "URL 一緒: https://www.pasonacareer.jp/info/images/18_tsuyaku.png\n",
      "URL 一緒: https://www.oracle.com/webfolder/technetwork/jp/assets/oracletechjp/images/TECH_0707_01-thumb-474x345-1339.png\n",
      "URL 一緒: https://bitcoin-with.com/codecamp/VueJS-ThankYou-img.gif\n",
      "リダイレクトした:https://www.payscale.com/research/JP/Skill=PHP/Salary/by_Job.png -> https://www.payscale.com/research/JP/Skill=PHP/Salary\n",
      "リダイレクトした:https://www.payscale.com/research/US/Skill=PHP/Salary/by_Job.png -> https://www.payscale.com/research/US/Skill=PHP/Salary\n",
      "リダイレクトした:https://24.media.tumblr.com/af38ff89188ad18c10afadf2b2c7824d/tumblr_mzvjht9eay1s2wio8o5_500.gif -> https://66.media.tumblr.com/af38ff89188ad18c10afadf2b2c7824d/tumblr_mzvjht9eay1s2wio8o5_500.gif\n",
      "リダイレクトした:https://itpro.nikkeibp.co.jp/images/n/linux/2011/cover1612.jpg -> https://tech.nikkeibp.co.jp/it/images/n/linux/2011/cover1612.jpg\n",
      "チェック URL: https://blog.skilledup.com/wp-content/uploads/2015/04/Objective-C-vs-Swift-Feature-1290x688-MS.jpg  アクセスできなかったよ★\n",
      "URL 一緒: https://images.gooschool.jp/root/7104153/img/6000.jpg\n",
      "URL 一緒: https://vizline.com/wp-content/uploads/2016/11/GoTouch_setup_01.gif\n",
      "チェック URL: https://cdn.springtutorials.com/wp-content/uploads/2016/03/spring-overview-current.png  アクセスできなかったよ★\n",
      "URL 一緒: https://www.kurzweilai.net/images/gallery-ng/ray-kurzweil-contemporary-photos/20110913_salerno_uri_raykurzweil_frame188-edit.jpg\n",
      "リダイレクトした:https://www.mysinchew.com/files/ai0119.jpg -> http://mysinchew.sinchew.com.my/files/ai0119.jpg\n",
      "チェック URL: https://cdn.discovery.pgsitecore.com/en-gb/-/media/Olay_UK/Images/Callouts/Desktop/Home/Carousel/OlayCompassBrandcomKVdesktoprast2v3.jpg  アクセスできなかったよ★\n",
      "URL 一緒: https://ramenparados.com/wp-content/uploads/2016/04/ghost-in-the-shell.jpg\n",
      "URL 一緒: https://livedoor.blogimg.jp/jin115/imgs/9/0/908620d5.jpg\n",
      "URL 一緒: https://blog-imgs-26.fc2.com/g/r/e/greensnake/20090107065358.jpg\n",
      "URL 一緒: https://i0.wp.com/sunnystation.info/wp-content/uploads/2016/04/%E3%82%AC%E3%83%A9%E3%83%94%E3%82%B3%E3%81%B7%EF%BD%9E%E3%82%AD%E3%83%A3%E3%83%A9%E3%82%AF%E3%82%BF%E3%83%BC.png\n",
      "チェック URL: https://www.techwebly.com/wp-content/uploads/2016/05/How-to-become-a-web-developer-1.jpg  アクセスできなかったよ★\n",
      "URL 一緒: https://hades.github.io/media/git/git-rebase.png\n",
      "URL 一緒: https://bitcoin-with.com/codecamp/rebase-ok-no-639.gif\n",
      "チェック URL: https://ecx.images-amazon.com/images/I/51PjpAUHZBL._SL160_.jpg  アクセスできなかったよ★\n",
      "チェック URL: https://ecx.images-amazon.com/images/I/41k7xonwpdL._SL160_.jpg  アクセスできなかったよ★\n",
      "チェック URL: https://ecx.images-amazon.com/images/I/51STbD1XOZL._SL160_.jpg  アクセスできなかったよ★\n",
      "チェック URL: https://ecx.images-amazon.com/images/I/51G3Iz6xIBL._SL160_.jpg  アクセスできなかったよ★\n",
      "チェック URL: https://ecx.images-amazon.com/images/I/51VoBpYkfbL._SL160_.jpg  アクセスできなかったよ★\n",
      "URL 一緒: https://bitcoin-with.com/codecamp/dragonball-gif-sample.gif\n",
      "チェック URL: https://serviceprice.com/wp-content/uploads/bfi_thumb/Graphic-Designer-317qexjtks3xrzzgsxiio0.jpg  アクセスできなかったよ★\n",
      "チェック URL: https://ecx.images-amazon.com/images/I/51pxTLfSasL._SL160_.jpg  アクセスできなかったよ★\n",
      "チェック URL: https://ecx.images-amazon.com/images/I/51DUvcOu-jL._SL160_.jpg  アクセスできなかったよ★\n",
      "URL 一緒: https://ozpa-h4.com/wp-content/uploads/121107_top.jpg\n",
      "URL 一緒: https://bitcoin-with.com/codecamp/ezgif.com-resize%20(2).gif\n",
      "URL 一緒: https://cdn.makeuseof.com/wp-content/uploads/2015/02/The-best-linux-distros-for-beginners-switching-from-windows-mac-840x420.png?416b2e\n",
      "URL 一緒: https://cdn.top.tsite.jp/static/top/sys/contents_image/media_image/028/110/371/28110371_0.jpeg\n",
      "URL 一緒: https://www.appps.jp/wp-content/uploads/2015/08/toccbcc.png\n",
      "URL 一緒: https://i.giphy.com/uzZh2psw4J3ri.gif\n",
      "URL 一緒: https://img.youtube.com/vi/JvBZBfY5Pfc/0.jpg\n",
      "URL 一緒: https://cdn1.mindmeister.com/assets/library/home/header_screenshot-568d2186ade7386f933374f8bce8c8fe.png\n",
      "URL 一緒: https://bitcoin-with.com/codecamp/ezgif.com-optimize%20(3).gif\n",
      "URL 一緒: https://bitcoin-with.com/codecamp/ezgif.com-optimize%20(4).gif\n",
      "URL 一緒: https://bitcoin-with.com/codecamp/ezgif.com-optimize%20(9).gif\n",
      "URL 一緒: https://bitcoin-with.com/codecamp/ezgif.com-optimize%20(11).gif\n",
      "URL 一緒: https://bitcoin-with.com/codecamp/ezgif.com-optimize%20(6).gif\n",
      "URL 一緒: https://bitcoin-with.com/codecamp/ezgif.com-optimize%20(7).gif\n",
      "URL 一緒: https://bitcoin-with.com/codecamp/ezgif.com-optimize%20(10).gif\n",
      "URL 一緒: https://bitcoin-with.com/codecamp/ezgif.com-optimize%20(12).gif\n",
      "URL 一緒: https://bitcoin-with.com/codecamp/ezgif.com-optimize%20(13).gif\n",
      "URL 一緒: https://bitcoin-with.com/codecamp/ezgif.com-optimize%20(14).gif\n",
      "チェック URL: https://www.itsretrosketch.com/wp-content/uploads/2016/01/Web-Maintenance.jpg.pagespeed.ce.qADPo2qfgO.jpg  アクセスできなかったよ★\n",
      "チェック URL: https://ifundu.net/detail/2/img/ipaddress.jpg  アクセスできなかったよ★\n",
      "リダイレクトした:https://itpro.nikkeibp.co.jp/article/COLUMN/20071022/285150/zu01_02.jpg -> https://tech.nikkeibp.co.jp/it/article/COLUMN/20071022/285150/zu01_02.jpg\n",
      "チェック URL: https://windows8.submit.ne.jp/wp-content/uploads/2013/09/7803f2c4d7039a4ced79089c26f6379a.jpg  アクセスできなかったよ★\n",
      "チェック URL: https://www.benq.co.jp/images/hq/products/prd_original/lcdm_bl2420pt.jpg  アクセスできなかったよ★\n",
      "チェック URL: https://affiliate-tft.com/img/asp.jpg  アクセスできなかったよ★\n",
      "URL 一緒: https://img.youtube.com/vi/i2y7Ql3jC0Q/0.jpg\n",
      "URL 一緒: https://s3-ap-northeast-1.amazonaws.com/mash-jp/production/uploads/9801/f985f3fab5766c95445e8e9132a8edc26ad93e3d.9800.desktop.jpg\n",
      "URL 一緒: https://s3-ap-northeast-1.amazonaws.com/mash-jp/production/uploads/9801/f1bac87e3cc2a501324e390e1456fa5756ba6fea.9801.desktop.jpg\n",
      "URL 一緒: https://s3-ap-northeast-1.amazonaws.com/mash-jp/production/uploads/9701/c37dbb2254383f3e9e0e56a6171182a57ccb9162.9799.desktop.jpg\n",
      "URL 一緒: https://s3-ap-northeast-1.amazonaws.com/codecamp-blog/wp-content/uploads/2015/12/03191043/article-section.png\n",
      "URL 一緒: https://s3-ap-northeast-1.amazonaws.com/codecamp-blog/wp-content/uploads/2015/12/03191049/article-section-4.png\n",
      "URL 一緒: https://s3-ap-northeast-1.amazonaws.com/codecamp-blog/wp-content/uploads/2015/12/03191047/article-section-6.png\n",
      "URL 一緒: https://s3-ap-northeast-1.amazonaws.com/codecamp-blog/wp-content/uploads/2015/12/03191045/article-section-7.png\n",
      "URL 一緒: https://s3-ap-northeast-1.amazonaws.com/codecamp-blog/wp-content/uploads/2015/12/03184723/block_inline-3.png\n",
      "URL 一緒: https://s3-ap-northeast-1.amazonaws.com/codecamp-blog/wp-content/uploads/2015/12/03184721/block_inline-5.png\n",
      "URL 一緒: https://codecamp-blog.s3-ap-northeast-1.amazonaws.com/wp-content/uploads/2015/11/24104708/codecamp.png\n",
      "URL 一緒: https://codecamp-blog.s3-ap-northeast-1.amazonaws.com/wp-content/uploads/2015/11/24105638/2.png\n"
     ]
    },
    {
     "name": "stdout",
     "output_type": "stream",
     "text": [
      "URL 一緒: https://codecamp-blog.s3-ap-northeast-1.amazonaws.com/wp-content/uploads/2015/11/24105847/3.png\n",
      "URL 一緒: https://codecamp-blog.s3-ap-northeast-1.amazonaws.com/wp-content/uploads/2015/11/24105923/4.png\n",
      "URL 一緒: https://codecamp-blog.s3-ap-northeast-1.amazonaws.com/wp-content/uploads/2015/11/24110033/%E3%83%97%E3%83%AD%E3%82%B0%E3%83%A9%E3%83%9F%E3%83%B3%E3%82%B0%E5%AD%A6%E7%BF%92%E3%81%AA%E3%82%89%E3%82%AA%E3%83%B3%E3%83%A9%E3%82%A4%E3%83%B3%E5%80%8B%E5%88%A5%E6%8C%87%E5%B0%8E%E3%81%AE%E3%83%97%E3%83%AD%E3%82%B0%E3%83%A9%E3%83%9F%E3%83%B3%E3%82%B0%E3%82%B9%E3%82%AF%E3%83%BC%E3%83%AB-CodeCamp-1.png\n",
      "URL 一緒: https://codecamp-blog.s3-ap-northeast-1.amazonaws.com/wp-content/uploads/2015/11/24111523/%E3%83%97%E3%83%AD%E3%82%B0%E3%83%A9%E3%83%9F%E3%83%B3%E3%82%B0%E5%AD%A6%E7%BF%92%E3%81%AA%E3%82%89%E3%82%AA%E3%83%B3%E3%83%A9%E3%82%A4%E3%83%B3%E5%80%8B%E5%88%A5%E6%8C%87%E5%B0%8E%E3%81%AE%E3%83%97%E3%83%AD%E3%82%B0%E3%83%A9%E3%83%9F%E3%83%B3%E3%82%B0%E3%82%B9%E3%82%AF%E3%83%BC%E3%83%AB-CodeCamp-2.png\n",
      "URL 一緒: https://codecamp-blog.s3-ap-northeast-1.amazonaws.com/wp-content/uploads/2015/11/24110348/6.png\n",
      "URL 一緒: https://bitcoin-with.com/codecamp/test-movie.mp4\n",
      "URL 一緒: https://static1.squarespace.com/static/546e6e17e4b04b54a39744b5/55d4cd95e4b05918b9ec7e86/55d4d155e4b0f5881c7f3e6d/1440010644741/BOTTLE_ROTATE.gif?format=500w\n",
      "URL 一緒: https://makeappicon.com/\n",
      "チェック URL: https://www.androidicongenerator.net/home_ja.html  アクセスできなかったよ★\n",
      "URL 一緒: https://www.gimp.org/\n",
      "リダイレクトした:https://greenfishsoftware.blogspot.hu/2012/07/greenfish-icon-editor-pro.html -> https://greenfishsoftware.blogspot.com/2012/07/greenfish-icon-editor-pro.html\n",
      "リダイレクトした:https://wwwimages.adobe.com/content/dam/Adobe/jp/jos/photoshopmagazine/howto/images/blur-gallery/psm_ps_blur-gallery.709.jpg -> https://wwwimages2.adobe.com/content/dam/acom/jp/jos/photoshopmagazine/howto/images/blur-gallery/psm_ps_blur-gallery.709.jpg\n",
      "URL 一緒: https://dt6wuqe2x3po3.cloudfront.net/images/products/photoshop/3d/content/hero_940x395.jpg?1418891456\n",
      "URL 一緒: https://img.youtube.com/vi/AoTBLxN-Vvs/0.jpg\n",
      "URL 一緒: https://img.youtube.com/vi/H3xjKWKmSd4/0.jpg\n",
      "URL 一緒: https://upload.wikimedia.org/wikipedia/commons/9/9b/STS-51L_riadiace_stredisko.jpg\n",
      "URL 一緒: https://appmarketinglabo.net/wordpress/wp-content/uploads/2014/04/unun.png\n",
      "URL 一緒: https://appmarketinglabo.net/wordpress/wp-content/uploads/2014/04/unlog_app.png\n",
      "URL 一緒: https://ja.wix.com/blog/wp-content/uploads/2014/05/Text.gif\n",
      "チェック URL: https://www.moxbit.com/assets/img/posts/2013-05/coding-programming-font-ricty-example.png?1367410852  アクセスできなかったよ★\n",
      "URL 一緒: https://upload.wikimedia.org/wikipedia/commons/1/18/Mplus_2p_light_sample.png\n",
      "URL 一緒: https://img.youtube.com/vi/dAc0DLWWxnE/0.jpg\n"
     ]
    }
   ],
   "source": [
    "import requests\n",
    "import csv\n",
    "import time\n",
    "\n",
    "loop_time = 0\n",
    "\n",
    "for s in LINK:\n",
    "    post_url = POST_URL[loop_time]\n",
    "    \n",
    "    try:\n",
    "        check_http_url_result = requests.get(s, timeout=7)\n",
    "        if check_http_url_result.url == s:\n",
    "            print(\"URL 一緒: \" + s)\n",
    "            with open('check_http_url_result.csv', 'a') as csvFile:\n",
    "                writer = csv.writer(csvFile)\n",
    "                writer.writerow([\"OK\", s, post_url])\n",
    "                csvFile.close()\n",
    "            loop_time = loop_time + 1\n",
    "            \n",
    "        else:\n",
    "            print(\"リダイレクトした:\" + s + \" -> \" + check_http_url_result.url)\n",
    "            with open('check_http_url_result.csv', 'a') as csvFile:\n",
    "                writer = csv.writer(csvFile)\n",
    "                writer.writerow([\"リダイレクトあり\", s , check_http_url_result.url, post_url])\n",
    "                csvFile.close()\n",
    "            loop_time = loop_time + 1\n",
    "        \n",
    "    except:\n",
    "        print(\"チェック URL: \" + s + \"  アクセスできなかったよ★\" )\n",
    "        with open('check_http_url_result.csv', 'a') as csvFile:\n",
    "            writer = csv.writer(csvFile)\n",
    "            writer.writerow([\"エラーでした\", s, post_url])\n",
    "            csvFile.close()\n",
    "        loop_time = loop_time + 1"
   ]
  },
  {
   "cell_type": "code",
   "execution_count": null,
   "metadata": {},
   "outputs": [],
   "source": []
  }
 ],
 "metadata": {
  "kernelspec": {
   "display_name": "Python 3",
   "language": "python",
   "name": "python3"
  },
  "language_info": {
   "codemirror_mode": {
    "name": "ipython",
    "version": 3
   },
   "file_extension": ".py",
   "mimetype": "text/x-python",
   "name": "python",
   "nbconvert_exporter": "python",
   "pygments_lexer": "ipython3",
   "version": "3.5.2"
  }
 },
 "nbformat": 4,
 "nbformat_minor": 2
}
